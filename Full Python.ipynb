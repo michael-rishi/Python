{
 "cells": [
  {
   "cell_type": "markdown",
   "metadata": {},
   "source": [
    "# Python"
   ]
  },
  {
   "cell_type": "markdown",
   "metadata": {},
   "source": [
    "### Comments"
   ]
  },
  {
   "cell_type": "code",
   "execution_count": null,
   "metadata": {},
   "outputs": [],
   "source": [
    "# I am a single Line Comment.\n",
    "'''\n",
    "I\n",
    "am\n",
    "a\n",
    "multy\n",
    "line\n",
    "comment.\n",
    "'''"
   ]
  },
  {
   "cell_type": "markdown",
   "metadata": {},
   "source": [
    "### Printing"
   ]
  },
  {
   "cell_type": "code",
   "execution_count": 4,
   "metadata": {},
   "outputs": [
    {
     "name": "stdout",
     "output_type": "stream",
     "text": [
      "Woooooooooo!!\n"
     ]
    }
   ],
   "source": [
    "#Print Function\n",
    "print(\"Woooooooooo!!\")"
   ]
  },
  {
   "cell_type": "markdown",
   "metadata": {},
   "source": [
    "## Data Types:"
   ]
  },
  {
   "cell_type": "markdown",
   "metadata": {},
   "source": [
    "### Varibals"
   ]
  },
  {
   "cell_type": "code",
   "execution_count": 7,
   "metadata": {},
   "outputs": [
    {
     "name": "stdout",
     "output_type": "stream",
     "text": [
      "Woooooooooo!!\n"
     ]
    }
   ],
   "source": [
    "#String Variabals\n",
    "wo = \"Woooooooooo!!\"\n",
    "print(wo)"
   ]
  },
  {
   "cell_type": "code",
   "execution_count": 8,
   "metadata": {},
   "outputs": [
    {
     "name": "stdout",
     "output_type": "stream",
     "text": [
      "7\n"
     ]
    }
   ],
   "source": [
    "#Nunber Variabals\n",
    "num = 7\n",
    "print(num)"
   ]
  },
  {
   "cell_type": "code",
   "execution_count": 10,
   "metadata": {},
   "outputs": [
    {
     "name": "stdout",
     "output_type": "stream",
     "text": [
      "True\n",
      "False\n"
     ]
    }
   ],
   "source": [
    "#Boolean Varibals\n",
    "bool_1 = True\n",
    "bool_2 = False\n",
    "print(bool_1)\n",
    "print(bool_2)"
   ]
  },
  {
   "cell_type": "markdown",
   "metadata": {},
   "source": [
    "### Escape Quotes : \" \", ' '\n",
    "\n",
    "######                    \n",
    "\n",
    "**\\\\\": Tell Jupyter Notebook this double quote is not the end.**\n",
    "\n",
    "**\\\\': Tell Jupyter Notebook this single quote is not the end.**\n",
    "\n",
    "    exg:\n",
    "`print(\"woo \"true\" \")` *# Gives an error* \n",
    "\n",
    "`print('woo 'true'')` *# Also gives an error* \n",
    "\n",
    "`print(\"woo \\\"true\\\" \")` *# Doesn't give an error* \n",
    "\n",
    "`print('woo \\'true\\')` *# Also doesn't give an error* \n",
    "\n",
    "`print(\"woo \"True\" \")` *# Gives an error* \n",
    "\n",
    "`print('woo 'True'')` *# Also gives an error* \n",
    "\n",
    "`print(\"woo \\\"True\\\" \")` *# Doesn't give an error* \n",
    "\n",
    "`print('woo \\'True\\')` *# Also doesn't give an error* "
   ]
  },
  {
   "cell_type": "markdown",
   "metadata": {},
   "source": [
    "###  *If / elif / else Statements*"
   ]
  },
  {
   "cell_type": "code",
   "execution_count": 16,
   "metadata": {},
   "outputs": [
    {
     "name": "stdout",
     "output_type": "stream",
     "text": [
      "Woo! bool_1 = \"True\", We got a \"True\". \n",
      "\n",
      "Woo! bool_2 = \"False\", We got a \"False\". \n",
      "\n",
      "\n"
     ]
    }
   ],
   "source": [
    "#If Statements\n",
    "bool_1 = True\n",
    "bool_2 = False\n",
    "ans = \"\"\n",
    "ans1 = \"\"\n",
    "ans2 = \"\"\n",
    "ans3 = \"\"\n",
    "ans4 = \"\"\n",
    "if bool_1 == True:\n",
    "    ans = \"Woo! bool_1 = \\\"True\\\", We got a \\\"True\\\". \"\n",
    "elif bool_1 == False:\n",
    "    ans1 = \"wan han wan han\"\n",
    "if bool_2 != True:\n",
    "    ans2 = \"Woo! bool_2 = \\\"False\\\", We got a \\\"False\\\". \"\n",
    "else:\n",
    "    ans3 = \"wan han wan han\"\n",
    "print(ans)\n",
    "print(ans1)\n",
    "print(ans2)\n",
    "print(ans3)\n",
    "print(ans4)"
   ]
  }
 ],
 "metadata": {
  "kernelspec": {
   "display_name": "Python 3",
   "language": "python",
   "name": "python3"
  },
  "language_info": {
   "codemirror_mode": {
    "name": "ipython",
    "version": 3
   },
   "file_extension": ".py",
   "mimetype": "text/x-python",
   "name": "python",
   "nbconvert_exporter": "python",
   "pygments_lexer": "ipython3",
   "version": "3.7.1"
  }
 },
 "nbformat": 4,
 "nbformat_minor": 2
}
